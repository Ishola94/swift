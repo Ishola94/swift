{
  "nbformat": 4,
  "nbformat_minor": 0,
  "metadata": {
    "colab": {
      "provenance": [],
      "authorship_tag": "ABX9TyOZkwjgBx8qzwkFEygUaO5r",
      "include_colab_link": true
    },
    "kernelspec": {
      "name": "python3",
      "display_name": "Python 3"
    },
    "language_info": {
      "name": "python"
    }
  },
  "cells": [
    {
      "cell_type": "markdown",
      "metadata": {
        "id": "view-in-github",
        "colab_type": "text"
      },
      "source": [
        "<a href=\"https://colab.research.google.com/github/Ishola94/swift/blob/master/Ridwan_Assignment.ipynb\" target=\"_parent\"><img src=\"https://colab.research.google.com/assets/colab-badge.svg\" alt=\"Open In Colab\"/></a>"
      ]
    },
    {
      "cell_type": "code",
      "execution_count": null,
      "metadata": {
        "id": "hZoTO8VC0Vor"
      },
      "outputs": [],
      "source": [
        "#1A. Currency Converter\n",
        "# Step 1: Ask the user for amount in Naira\n",
        "naira = float(input(\"Enter the amount in Naira (NGN): \"))\n",
        "\n",
        "# Step 2: Define the exchange rate\n",
        "exchange_rate = 1500  # 1 USD = 1500 NGN\n",
        "\n",
        "# Step 3: Convert to USD\n",
        "usd = naira / exchange_rate\n",
        "\n",
        "# Step 4: Display the result\n",
        "print(f\"{naira} Naira is approximately ${usd:.2f} USD\")\n",
        "\n",
        "Enter the amount in Naira (NGN):  1000\n",
        "1000.0 Naira is approximately $0.67 USD\n",
        "\n",
        "\n",
        "#1B. Bonus: Allow the user to enter different exchange rates.\n",
        "# Step 1: Ask the user for amount in Naira\n",
        "naira = float(input(\"Enter the amount in Naira (NGN): \"))\n",
        "\n",
        "# Step 2: Ask the user for the exchange rate\n",
        "exchange_rate = float(input(\"Enter the current exchange rate (NGN per USD): \"))\n",
        "\n",
        "# Step 3: Convert to USD\n",
        "usd = naira / exchange_rate\n",
        "\n",
        "# Step 4: Display the result\n",
        "print(f\"{naira} Naira is approximately ${usd:.2f} USD at an exchange rate of {exchange_rate} NGN per USD\")\n",
        "\n",
        "Enter the amount in Naira (NGN):  5000\n",
        "Enter the current exchange rate (NGN per USD):  1490\n",
        "5000.0 Naira is approximately $3.36 USD at an exchange rate of 1490.0 NGN per USD\n",
        "\n",
        "\n",
        "#2A. Age Calculator\n",
        "# Basic Version (Only Year-Based Calculation)\n",
        "\n",
        "# Import datetime module to get the current year\n",
        "import datetime\n",
        "\n",
        "# Step 1: Get birth year from user\n",
        "birth_year = int(input(\"Enter your birth year (e.g., 2010): \"))\n",
        "\n",
        "# Step 2: Get the current year\n",
        "current_year = datetime.datetime.now().year\n",
        "\n",
        "# Step 3: Calculate age\n",
        "age = current_year - birth_year\n",
        "\n",
        "# Step 4: Display the result\n",
        "print(f\"You are {age} years old!\")"
      ]
    }
  ]
}